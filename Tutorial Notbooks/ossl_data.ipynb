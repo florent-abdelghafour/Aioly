{
 "cells": [
  {
   "cell_type": "code",
   "execution_count": 4,
   "metadata": {},
   "outputs": [],
   "source": [
    "import os\n",
    "os.chdir('../')\n",
    "from data.load_dataset import SoilSpectralDataSet\n",
    "import numpy as np\n",
    "import matplotlib.pyplot as plt\n",
    "from net.chemtools.metrics import ccc, r2_score\n",
    "\n",
    "import torch\n",
    "from torch import nn\n",
    "from torch.nn import functional as F\n",
    "from torch import optim\n",
    "import torch.utils.data as data_utils\n",
    "from torch.utils.data import DataLoader, random_split,Subset\n",
    "from net.chemtools.PLS import PLS\n",
    "from net.base_net import CuiNet , DeepSpectraCNN, ResNet18_1D , ViT_1D, FullyConvNet\n",
    "from utils.testing import ccc,r2_score,RMSEP\n",
    "from utils.training import train\n",
    "from utils.testing import test\n",
    "from utils.misc import data_augmentation\n"
   ]
  },
  {
   "cell_type": "code",
   "execution_count": 2,
   "metadata": {},
   "outputs": [],
   "source": [
    "seed = 42\n",
    "torch.manual_seed(seed)\n",
    "if torch.cuda.is_available():\n",
    "    torch.cuda.manual_seed(seed)\n",
    "    torch.cuda.manual_seed_all(seed)\n",
    "    torch.backends.cudnn.deterministic = True\n",
    "    torch.backends.cudnn.benchmark = False\n",
    "\n",
    "    device = torch.device(\"cuda:0\" if torch.cuda.is_available() else \"cpu\")\n",
    "\n",
    "    num_epochs = 2\n",
    "    BATCH = 1024\n",
    "    LR = 0.0001\n",
    "    save_interval = 50  # Save model every 10 epochs"
   ]
  },
  {
   "cell_type": "code",
   "execution_count": 5,
   "metadata": {},
   "outputs": [],
   "source": [
    "y_labels = [\"oc_usda.c729_w.pct\", \"na.ext_usda.a726_cmolc.kg\", \"clay.tot_usda.a334_w.pct\", \n",
    "                \"k.ext_usda.a725_cmolc.kg\", \"ph.h2o_usda.a268_index\"]  \n",
    "dataset_type = \"mir\"\n",
    "\n",
    "data_path =\"C:\\\\00_aioly\\\\GitHub\\datasets\\\\ossl\\\\ossl_all_L1_v1.2.csv\""
   ]
  },
  {
   "cell_type": "code",
   "execution_count": 6,
   "metadata": {},
   "outputs": [],
   "source": [
    "augmentation = data_augmentation(slope = 0.1, offset = 0.1, noise = 0.1, shift = 0.1)\n",
    "spectral_data = SoilSpectralDataSet(data_path=data_path, dataset_type=dataset_type, y_labels=y_labels, preprocessing=augmentation)\n",
    "dataset_size = len(spectral_data)\n",
    "\n",
    "test_size = int(0.2 * dataset_size)  \n",
    "train_val_size = dataset_size - test_size\n",
    "train_dataset, val_dataset = random_split(spectral_data, [train_size, val_size], generator=torch.Generator().manual_seed(seed))\n",
    "train_val_indices, test_indices = random_split(range(dataset_size), [train_val_size, test_size], generator=torch.Generator().manual_seed(seed))\n",
    "\n",
    "train_size = int(0.75 * train_val_size)  \n",
    "val_size = train_val_size - train_size\n",
    "train_indices, val_indices = random_split(train_val_indices, [train_size, val_size], generator=torch.Generator().manual_seed(seed))\n",
    "\n",
    "train_loader = DataLoader(train_dataset, batch_size=BATCH, shuffle=True, num_workers=0)\n",
    "val_loader = DataLoader(val_dataset, batch_size=BATCH, shuffle=False, num_workers=0)\n"
   ]
  },
  {
   "cell_type": "code",
   "execution_count": null,
   "metadata": {},
   "outputs": [],
   "source": [
    "mean = np.zeros(spec_dims) \n",
    "std = np.zeros(spec_dims)\n",
    "\n",
    "for inputs, targets in train_loader:\n",
    "    mean += np.sum(np.array(inputs),axis = 0)                          \n",
    "mean /= len(train_loader.dataset)\n",
    "\n",
    "for inputs, targets in train_loader:\n",
    "    \n",
    "    std += np.sum((np.array(inputs)-mean)**2,axis = 0)        \n",
    "std /= len(train_loader.dataset)"
   ]
  }
 ],
 "metadata": {
  "kernelspec": {
   "display_name": "im_regis",
   "language": "python",
   "name": "python3"
  },
  "language_info": {
   "codemirror_mode": {
    "name": "ipython",
    "version": 3
   },
   "file_extension": ".py",
   "mimetype": "text/x-python",
   "name": "python",
   "nbconvert_exporter": "python",
   "pygments_lexer": "ipython3",
   "version": "3.11.5"
  }
 },
 "nbformat": 4,
 "nbformat_minor": 2
}
